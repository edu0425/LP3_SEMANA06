{
 "cells": [
  {
   "cell_type": "markdown",
   "id": "67469160",
   "metadata": {},
   "source": [
    "4. Clases y Objetos\n"
   ]
  },
  {
   "cell_type": "code",
   "execution_count": 1,
   "id": "9f970711",
   "metadata": {},
   "outputs": [],
   "source": [
    "# Problema 01\n",
    "# Crear la siguiente clase:\n",
    "# -Clase: Persona\n",
    "# -Atributos: nombre, apellido, talla, dni\n"
   ]
  },
  {
   "cell_type": "code",
   "execution_count": 2,
   "id": "bf655e8e",
   "metadata": {},
   "outputs": [],
   "source": [
    "class Persona:\n",
    "    nombre=\"\"\n",
    "    apellidos=\"\"\n",
    "    dni=\"\"\n",
    "    talla=0"
   ]
  },
  {
   "cell_type": "code",
   "execution_count": 3,
   "id": "08491321",
   "metadata": {},
   "outputs": [
    {
     "name": "stdout",
     "output_type": "stream",
     "text": [
      "Persona 1\n",
      "Nombre: Pablo\n",
      "Apellidos: Perez Gonzales\n",
      "DNI: 12345678\n",
      "Talla: 1.7\n"
     ]
    }
   ],
   "source": [
    "# Creamos un objeto persona1 de la clase persona y le asignamos valores\n",
    "# Creacion del objeto persona1\n",
    "persona1 =Persona()\n",
    "\n",
    "#Asignamos valores al objeto\n",
    "persona1.nombre=\"Pablo\"\n",
    "persona1.apellidos=\"Perez Gonzales\"\n",
    "persona1.dni=\"12345678\"\n",
    "persona1.talla=1.7\n",
    "\n",
    "# Para mostrar los valores del objeto\n",
    "print(\"Persona 1\")\n",
    "print(f\"Nombre: {persona1.nombre}\")\n",
    "print(f\"Apellidos: {persona1.apellidos}\")\n",
    "print(f\"DNI: {persona1.dni}\")\n",
    "print(f\"Talla: {persona1.talla}\")\n"
   ]
  },
  {
   "cell_type": "code",
   "execution_count": 4,
   "id": "864fa6e8",
   "metadata": {},
   "outputs": [],
   "source": [
    "# Para utilizar constructores utilizamos __init__\n",
    "# ¿QUE ES UN CONSTRUCTOR?\n",
    "# - Es un metodo\n",
    "# - Sirve para inicializar valores a una clase"
   ]
  },
  {
   "cell_type": "code",
   "execution_count": 5,
   "id": "1c22867d",
   "metadata": {},
   "outputs": [],
   "source": [
    "# Problema 2:\n",
    "# Crear la siguiente clase y utilizar constructores:\n",
    "# - Clase: Curso\n",
    "# - Atributos: Codigo, Nombre, Horas, Creditos"
   ]
  },
  {
   "cell_type": "code",
   "execution_count": 6,
   "id": "6117ecb3",
   "metadata": {},
   "outputs": [],
   "source": [
    "# Solucion:\n",
    "class Curso:\n",
    "    def __init__(self, codigo, nombre, horas, creditos):\n",
    "        self.codigo=codigo\n",
    "        self.nombre=nombre\n",
    "        self.horas=horas\n",
    "        self.creditos=creditos\n",
    "        \n",
    "    def mostrar_datos_curso(self):\n",
    "        print(f\"Curso: {self.nombre}\")\n",
    "        print(f\"Codigo: {self.codigo}\")\n",
    "        print(f\"Horas: {self.horas}\")\n",
    "        print(f\"Creditos: {self.creditos}\")"
   ]
  },
  {
   "cell_type": "code",
   "execution_count": 9,
   "id": "94a02515",
   "metadata": {},
   "outputs": [],
   "source": [
    "# crear objetos curso1 y le mandamos parametros\n",
    "curso1=Curso(\"C0501\", \"LP3\", 6, 3)"
   ]
  },
  {
   "cell_type": "code",
   "execution_count": 11,
   "id": "55075ea9",
   "metadata": {},
   "outputs": [
    {
     "name": "stdout",
     "output_type": "stream",
     "text": [
      "Curso: LP3\n",
      "Codigo: C0501\n",
      "Horas: 6\n",
      "Creditos: 3\n"
     ]
    }
   ],
   "source": [
    "curso1.mostrar_datos_curso()"
   ]
  },
  {
   "cell_type": "code",
   "execution_count": null,
   "id": "6299f377",
   "metadata": {},
   "outputs": [],
   "source": []
  }
 ],
 "metadata": {
  "kernelspec": {
   "display_name": "Python 3 (ipykernel)",
   "language": "python",
   "name": "python3"
  },
  "language_info": {
   "codemirror_mode": {
    "name": "ipython",
    "version": 3
   },
   "file_extension": ".py",
   "mimetype": "text/x-python",
   "name": "python",
   "nbconvert_exporter": "python",
   "pygments_lexer": "ipython3",
   "version": "3.9.7"
  }
 },
 "nbformat": 4,
 "nbformat_minor": 5
}
