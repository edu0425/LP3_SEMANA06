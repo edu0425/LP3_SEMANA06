{
 "cells": [
  {
   "cell_type": "code",
   "execution_count": 2,
   "id": "ce53d8b0",
   "metadata": {},
   "outputs": [],
   "source": [
    "# 3.1 Metodos vacios\n",
    "# Explicacion: no reciben valores(Parametros)\n",
    "\n",
    "def saludo():\n",
    "    print(\"Bienvenidos al curso de LP3 \")\n",
    "    print(\"*********** PYTHON *********\")"
   ]
  },
  {
   "cell_type": "code",
   "execution_count": 3,
   "id": "4bb41e19",
   "metadata": {},
   "outputs": [
    {
     "name": "stdout",
     "output_type": "stream",
     "text": [
      "Bienvenidos al curso de LP3 \n",
      "*********** PYTHON *********\n"
     ]
    }
   ],
   "source": [
    "saludo()"
   ]
  },
  {
   "cell_type": "code",
   "execution_count": 11,
   "id": "fe53c34d",
   "metadata": {},
   "outputs": [],
   "source": [
    "# 3.2 Metodos que reciben valores\n",
    "def factorial(numero):\n",
    "    fac=1\n",
    "    for i in range(1, numero+1):\n",
    "        fac*=i\n",
    "        #fac=fac+i\n",
    "        print(f\"El factorial es: {fac}\")"
   ]
  },
  {
   "cell_type": "code",
   "execution_count": 12,
   "id": "4bd9549b",
   "metadata": {},
   "outputs": [
    {
     "name": "stdout",
     "output_type": "stream",
     "text": [
      "Ingrese el numero: 6\n",
      "El factorial es: 1\n",
      "El factorial es: 2\n",
      "El factorial es: 6\n",
      "El factorial es: 24\n",
      "El factorial es: 120\n",
      "El factorial es: 720\n"
     ]
    }
   ],
   "source": [
    "numero=int(input(\"Ingrese el numero: \"))\n",
    "factorial(numero)"
   ]
  },
  {
   "cell_type": "code",
   "execution_count": 13,
   "id": "f09e982d",
   "metadata": {},
   "outputs": [],
   "source": [
    "# 3.3 Metodos que devuelven valores\n",
    "def saludo2():\n",
    "    mensaje=\"Bienvenidos\"\n",
    "    return mensaje"
   ]
  },
  {
   "cell_type": "code",
   "execution_count": 14,
   "id": "99ace9dc",
   "metadata": {},
   "outputs": [
    {
     "name": "stdout",
     "output_type": "stream",
     "text": [
      "Bienvenidos\n"
     ]
    }
   ],
   "source": [
    "print(saludo2())"
   ]
  },
  {
   "cell_type": "code",
   "execution_count": 16,
   "id": "89514ebe",
   "metadata": {},
   "outputs": [],
   "source": [
    "# 3.4 Metodos que reciben y devuelven valores\n",
    "def factorial2(numero):\n",
    "    fac=1\n",
    "    for i in range(1, numero+1):\n",
    "        fac*=i\n",
    "    return fac"
   ]
  },
  {
   "cell_type": "code",
   "execution_count": 18,
   "id": "66498ba8",
   "metadata": {},
   "outputs": [
    {
     "name": "stdout",
     "output_type": "stream",
     "text": [
      "Ingrese el numero: 6\n",
      "El factorila de 6 es 720\n"
     ]
    }
   ],
   "source": [
    "numero=int(input(\"Ingrese el numero: \"))\n",
    "print(f\"El factorila de {numero} es {factorial2(numero)}\")"
   ]
  },
  {
   "cell_type": "code",
   "execution_count": 19,
   "id": "5d1bd4c9",
   "metadata": {},
   "outputs": [],
   "source": [
    "# Otro ejemplo:\n",
    "# Calcular IGV:\n",
    "def obtenerigv(importe):\n",
    "    return importe*0.19"
   ]
  },
  {
   "cell_type": "code",
   "execution_count": 20,
   "id": "0dbdf31f",
   "metadata": {},
   "outputs": [
    {
     "data": {
      "text/plain": [
       "28.5"
      ]
     },
     "execution_count": 20,
     "metadata": {},
     "output_type": "execute_result"
    }
   ],
   "source": [
    "obtenerigv(150)"
   ]
  },
  {
   "cell_type": "code",
   "execution_count": 21,
   "id": "3aba9ac7",
   "metadata": {},
   "outputs": [
    {
     "data": {
      "text/plain": [
       "140"
      ]
     },
     "execution_count": 21,
     "metadata": {},
     "output_type": "execute_result"
    }
   ],
   "source": [
    "factorial2(5) +20"
   ]
  },
  {
   "cell_type": "code",
   "execution_count": null,
   "id": "37622eba",
   "metadata": {},
   "outputs": [],
   "source": []
  }
 ],
 "metadata": {
  "kernelspec": {
   "display_name": "Python 3 (ipykernel)",
   "language": "python",
   "name": "python3"
  },
  "language_info": {
   "codemirror_mode": {
    "name": "ipython",
    "version": 3
   },
   "file_extension": ".py",
   "mimetype": "text/x-python",
   "name": "python",
   "nbconvert_exporter": "python",
   "pygments_lexer": "ipython3",
   "version": "3.9.7"
  }
 },
 "nbformat": 4,
 "nbformat_minor": 5
}
