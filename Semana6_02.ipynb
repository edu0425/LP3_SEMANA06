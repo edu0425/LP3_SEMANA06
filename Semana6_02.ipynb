{
 "cells": [
  {
   "cell_type": "markdown",
   "id": "9ee55033",
   "metadata": {},
   "source": [
    "# SEMANA 06\n",
    "Carlos Granados Pretel"
   ]
  },
  {
   "cell_type": "markdown",
   "id": "4f06ec1d",
   "metadata": {},
   "source": [
    "# Temas\n",
    "1. Coleccion de datos\n",
    "2. Estructuras Decisivas y Estructuras Repetitivas\n",
    "3. Funciones\n",
    "4. Clases y objetos"
   ]
  },
  {
   "cell_type": "markdown",
   "id": "3bebc421",
   "metadata": {},
   "source": [
    "2. Estructuras Decisivas y Estructuras Repetitivas"
   ]
  },
  {
   "cell_type": "code",
   "execution_count": 1,
   "id": "d16e0784",
   "metadata": {},
   "outputs": [],
   "source": [
    "# 2.1 Estructuras Decisivas (if, elif, else)"
   ]
  },
  {
   "cell_type": "code",
   "execution_count": 2,
   "id": "95da6a43",
   "metadata": {},
   "outputs": [],
   "source": [
    "# if\n",
    "# Problema: Dado el precio de 3 productosingresados por el teclado, \n",
    "# aplicar un descuento del 10% si la venta es mayor igual a 1000\n"
   ]
  },
  {
   "cell_type": "code",
   "execution_count": 8,
   "id": "e72cee7a",
   "metadata": {},
   "outputs": [
    {
     "name": "stdout",
     "output_type": "stream",
     "text": [
      "Producto 1: 500\n",
      "Producto 2: 200\n",
      "Producto 3: 500\n",
      "Total a pagar es: 1080.0\n"
     ]
    }
   ],
   "source": [
    "P1= float(input(\"Producto 1: \"))\n",
    "P2= float(input(\"Producto 2: \"))\n",
    "P3= float(input(\"Producto 3: \"))\n",
    "total=P1+P2+P3\n",
    "if total>=1000:\n",
    "    total=total-(0.1*total)\n",
    "\n",
    "print(f\"Total a pagar es: {total}\")"
   ]
  },
  {
   "cell_type": "code",
   "execution_count": 5,
   "id": "27a05e30",
   "metadata": {},
   "outputs": [],
   "source": [
    "\n",
    "# Ddo una lista ALANYA ALVA AZAÑERO CARRASCO CCACCYA COSME CUSI DIAZ FLORES GOMEZ GOMEZ GRANADOS HUANCASJULCA LAURA MOTTA PINEDO PONCE QUINTANARODRIGUEZ SERNA VILCA YAURICASA\n",
    "# Diseñar un codigo que muestre si el apellido de un estudiantes ingresado por teclado forma parte de la lista\n"
   ]
  },
  {
   "cell_type": "code",
   "execution_count": 30,
   "id": "164564b9",
   "metadata": {},
   "outputs": [
    {
     "name": "stdout",
     "output_type": "stream",
     "text": [
      "Ingrese apellido a buscarLUIS\n",
      "El apellido no se encuentra en la lista\n"
     ]
    }
   ],
   "source": [
    "# SOLUCION\n",
    "LP3=['ALANYA', 'ALVA', 'AZAÑERO', 'CARRASCO', 'CCACCYA', 'COSME', 'CUSI', 'DIAZ', 'FLORES', 'GOMEZ', 'GOMEZ', 'GRANADOS', 'HUANCAS', 'JULCA', 'LAURA', 'MOTTA', 'PINEDO', 'PONCE', 'QUINTANA', 'RODRIGUEZ', 'SERNA', 'VILCA', 'YAURICASA']\n",
    "apellido = input(\"Ingrese apellido a buscar\")\n",
    "if apellido in LP3:\n",
    "    print(\"El apellido se encuentra en la lista\")\n",
    "else:\n",
    "    print(\"El apellido no se encuentra en la lista\")\n",
    "\n"
   ]
  },
  {
   "cell_type": "code",
   "execution_count": 6,
   "id": "fc703897",
   "metadata": {},
   "outputs": [],
   "source": [
    "# Problema 02\n",
    "# Dado el importe total de ventas realizadas por un trabajador (ingresado por teclado, \n",
    "# categorizar que tipo de empleado es, considerando la siguiente tabla:\n",
    "\n",
    "# Categoria: A -> [0, 1000]\n",
    "# Categoria: B -> <1000, 2000]\n",
    "# Categoria: C -> <2000, 5000]\n",
    "# Categoría: D -> <5000, Mas]\n",
    "\n",
    "# Tiempo asignado: 12 minutos"
   ]
  },
  {
   "cell_type": "code",
   "execution_count": 32,
   "id": "20fe6917",
   "metadata": {},
   "outputs": [
    {
     "name": "stdout",
     "output_type": "stream",
     "text": [
      "Ingrese importe total: 5000\n",
      "Categoria C\n",
      "C\n"
     ]
    }
   ],
   "source": [
    "# SOLUCION PROBLEMA 3\n",
    "importe=float(input(\"Ingrese importe total: \"))\n",
    "if importe>=0 and importe<=1000:\n",
    "    print(\"Categoria A\")\n",
    "    \n",
    "elif importe>1000 and importe<=2000:\n",
    "    print(\"Categoria B\")\n",
    "elif importe>2000 and importe<=5000:\n",
    "    print(\"Categoria C\")\n",
    "elif importe>5000:\n",
    "    print(\" Categoria D\")\n",
    "    "
   ]
  },
  {
   "cell_type": "code",
   "execution_count": 28,
   "id": "f966c88e",
   "metadata": {},
   "outputs": [
    {
     "name": "stdout",
     "output_type": "stream",
     "text": [
      "Ingrese importe total: 3000\n",
      "Categoria C\n"
     ]
    }
   ],
   "source": [
    "# SOLUCION PROBLEMA 2\n",
    "importe=float(input(\"Ingrese importe total: \"))\n",
    "if importe>=0 and importe<=1000:\n",
    "    print(\"Categoria A\")\n",
    "else:\n",
    "    if importe>1000 and importe<=2000:\n",
    "        print(\"Categoria B\")\n",
    "    else: \n",
    "        if importe>2000 and importe<=5000:\n",
    "            print(\"Categoria C\")\n",
    "        else:\n",
    "            if importe>5000:\n",
    "                print(\" Categoria D\")"
   ]
  },
  {
   "cell_type": "code",
   "execution_count": 33,
   "id": "73459929",
   "metadata": {},
   "outputs": [],
   "source": [
    "# Estructuras Repetitivas"
   ]
  },
  {
   "cell_type": "code",
   "execution_count": 34,
   "id": "1c8f5941",
   "metadata": {},
   "outputs": [],
   "source": [
    "# FOR"
   ]
  },
  {
   "cell_type": "code",
   "execution_count": 35,
   "id": "d5327b52",
   "metadata": {},
   "outputs": [],
   "source": [
    "# Problema 1:\n",
    "# Mostrar los elementos de una lista usando FOR"
   ]
  },
  {
   "cell_type": "code",
   "execution_count": 36,
   "id": "8d1612ef",
   "metadata": {},
   "outputs": [
    {
     "name": "stdout",
     "output_type": "stream",
     "text": [
      "Yauricasa\n",
      "Granados\n",
      "Alva\n",
      "Laura\n"
     ]
    }
   ],
   "source": [
    "# SOLUCION\n",
    "aula=['Yauricasa', 'Granados', 'Alva', 'Laura']\n",
    "# Por cada alumno que esta en la lista, imprimir alumno\n",
    "for alumno in aula:\n",
    "    print(alumno)"
   ]
  },
  {
   "cell_type": "code",
   "execution_count": 37,
   "id": "c1282095",
   "metadata": {},
   "outputs": [],
   "source": [
    "# Problema 2\n",
    "# Dado una cadena ingresado por teclado, mostrar cada caracter de la cadena, utilizando la estructura for\n"
   ]
  },
  {
   "cell_type": "code",
   "execution_count": 45,
   "id": "abf182c8",
   "metadata": {},
   "outputs": [
    {
     "name": "stdout",
     "output_type": "stream",
     "text": [
      "Ingrese cadenahola\n",
      "h\n",
      "o\n",
      "l\n",
      "a\n"
     ]
    }
   ],
   "source": [
    "# Solucion\n",
    "cadena=input(\"Ingrese cadena\")\n",
    "for caracter in cadena:\n",
    "    print(caracter)\n"
   ]
  },
  {
   "cell_type": "code",
   "execution_count": 38,
   "id": "947dd5e2",
   "metadata": {},
   "outputs": [
    {
     "data": {
      "text/plain": [
       "range(0, 5)"
      ]
     },
     "execution_count": 38,
     "metadata": {},
     "output_type": "execute_result"
    }
   ],
   "source": [
    "# Para generar rangos de los numeros range()\n",
    "range(5)"
   ]
  },
  {
   "cell_type": "code",
   "execution_count": 42,
   "id": "22ccb276",
   "metadata": {},
   "outputs": [
    {
     "name": "stdout",
     "output_type": "stream",
     "text": [
      "0\n",
      "1\n",
      "2\n",
      "3\n",
      "4\n",
      "5\n",
      "6\n",
      "7\n",
      "8\n",
      "9\n",
      "10\n"
     ]
    }
   ],
   "source": [
    "# Imprimir los numeros de 0 a 10, utilizando for\n",
    "for numeros in range(11):\n",
    "    print(numeros)"
   ]
  },
  {
   "cell_type": "code",
   "execution_count": 43,
   "id": "9388b18e",
   "metadata": {},
   "outputs": [],
   "source": [
    "# Probema 2\n",
    "# Imprimir los numeroas de 10 a 20 de 2 en 2"
   ]
  },
  {
   "cell_type": "code",
   "execution_count": 44,
   "id": "9cfc04c7",
   "metadata": {},
   "outputs": [
    {
     "name": "stdout",
     "output_type": "stream",
     "text": [
      "10\n",
      "12\n",
      "14\n",
      "16\n",
      "18\n"
     ]
    }
   ],
   "source": [
    "for numero in range(10,22,2):\n",
    "    print(numero)"
   ]
  },
  {
   "cell_type": "code",
   "execution_count": 48,
   "id": "20b4f6dc",
   "metadata": {},
   "outputs": [],
   "source": [
    "\n",
    "# Problema 03\n",
    "# Dado una lista de números, utilizando el algoritmo de burbuja ordenarlos de menor a mayor\n",
    "# Codigo en java\n",
    "# package ordenamiento;\n",
    "# public class burbuja {\n",
    "#    public static void main(String[] args) {\n",
    "#        int temp; \n",
    "#        int lista[]={10,20,5,-10,100, 0, 50, 17, 2000,-1000,0};\n",
    "#        for(int i=0;i<lista.length-1;i++){\n",
    "#            for(int j=i+1; j<lista.length; j++){\n",
    "#                if(lista[i]>lista[j]){\n",
    "#                    temp = lista[i];\n",
    "#                    lista[i] = lista[j];\n",
    "#                    lista[j] = temp;\n",
    "#                }                              \n",
    "\n"
   ]
  },
  {
   "cell_type": "code",
   "execution_count": 51,
   "id": "5a859f02",
   "metadata": {},
   "outputs": [
    {
     "name": "stdout",
     "output_type": "stream",
     "text": [
      "[-1000, -10, 0, 0, 5, 10, 17, 20, 50, 100, 2000]\n"
     ]
    }
   ],
   "source": [
    "# Solucion\n",
    "lista=[10,20,5,-10,100, 0, 50, 17, 2000,-1000,0]\n",
    "for i in range(1, len(lista)):\n",
    "    for j in range(0, len(lista)-i):\n",
    "        if(lista[j+1] < lista[j]):\n",
    "            temp=lista[j]\n",
    "            lista[j]=lista[j+1]\n",
    "            lista[j+1]=temp\n",
    "print(lista)\n",
    "            \n",
    "\n"
   ]
  },
  {
   "cell_type": "code",
   "execution_count": 52,
   "id": "a6628b59",
   "metadata": {},
   "outputs": [
    {
     "name": "stdout",
     "output_type": "stream",
     "text": [
      "1\n",
      "2\n",
      "3\n",
      "4\n",
      "5\n",
      "6\n",
      "7\n",
      "8\n",
      "9\n",
      "10\n"
     ]
    }
   ],
   "source": [
    "# CON WHILE\n",
    "numero=1\n",
    "fin=10\n",
    "while numero<=fin:\n",
    "    print(numero)\n",
    "    numero+=1"
   ]
  },
  {
   "cell_type": "code",
   "execution_count": null,
   "id": "4b57eaa0",
   "metadata": {},
   "outputs": [],
   "source": []
  }
 ],
 "metadata": {
  "kernelspec": {
   "display_name": "Python 3 (ipykernel)",
   "language": "python",
   "name": "python3"
  },
  "language_info": {
   "codemirror_mode": {
    "name": "ipython",
    "version": 3
   },
   "file_extension": ".py",
   "mimetype": "text/x-python",
   "name": "python",
   "nbconvert_exporter": "python",
   "pygments_lexer": "ipython3",
   "version": "3.9.7"
  }
 },
 "nbformat": 4,
 "nbformat_minor": 5
}
